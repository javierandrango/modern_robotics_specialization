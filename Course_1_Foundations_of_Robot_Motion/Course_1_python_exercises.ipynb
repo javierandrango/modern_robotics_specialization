{
 "cells": [
  {
   "cell_type": "markdown",
   "metadata": {},
   "source": [
    "<center><h1>Course 1: Foundations of Robot Motion</h1></center>"
   ]
  },
  {
   "cell_type": "markdown",
   "metadata": {},
   "source": [
    "**NOTE:**\n",
    "\n",
    "The variable names were assigned according to the code library documentation.\n",
    "\n",
    "The python code (Modern robotics library)is commented and mostly self-explanatory in conjunction with the book. An example use is provided with each function.\n",
    "\n",
    "Information on installing and using the library is available at the code website, https://github.com/NxRLab/ModernRobotics."
   ]
  },
  {
   "cell_type": "markdown",
   "metadata": {},
   "source": [
    "<h2><b>Chapter 3 through 3.2, Rigid-Body Motions</b></h2>"
   ]
  },
  {
   "cell_type": "code",
   "execution_count": 1,
   "metadata": {},
   "outputs": [],
   "source": [
    "import modern_robotics as mr\n",
    "import numpy as np"
   ]
  },
  {
   "cell_type": "markdown",
   "metadata": {},
   "source": [
    "<b>9</b>. Calculate the matrix exponential corresponding to the exponential coordinates of rotation $\\hat{\\omega}\\theta = (1,2,0)^\\intercal$ The maximum allowable error for any matrix element is 0.01, so give enough decimal places where necessary."
   ]
  },
  {
   "cell_type": "markdown",
   "metadata": {},
   "source": [
    "* <span style=\"color:gray\"><b>expc3:</b></span> A 3-vector of exponential coordinates for rotation $\\hat{\\omega}\\theta$\n",
    "* <span style=\"color:gray\"><b>so3mat:</b></span> The corresponding 3×3 skew-symmetric matrix in $so(3)$.\n",
    "* <span style=\"color:gray\"><b>R:</b></span> The $R'\\epsilon SO(3)$ that is achieved by rotating about $\\hat{\\omega}$ by $\\theta$ from an initial orientation $R = I$.\n",
    "\n"
   ]
  },
  {
   "cell_type": "code",
   "execution_count": 3,
   "metadata": {},
   "outputs": [
    {
     "name": "stdout",
     "output_type": "stream",
     "text": [
      "[[-0.294  0.647  0.704]\n",
      " [ 0.647  0.677 -0.352]\n",
      " [-0.704  0.352 -0.617]]\n"
     ]
    }
   ],
   "source": [
    "expc3 = np.array([1, 2, 0])  \n",
    "so3mat =mr.VecToso3(expc3)\n",
    "R = mr.MatrixExp3(so3mat)\n",
    "print(np.round_(R,3))"
   ]
  },
  {
   "cell_type": "markdown",
   "metadata": {},
   "source": [
    "<b>10</b>. Write the 3×3 skew-symmetric matrix corresponding to $\\omega=(1,2,0.5)^T$. Confirm your answer using the function VecToso3 in the given software."
   ]
  },
  {
   "cell_type": "markdown",
   "metadata": {},
   "source": [
    "* <span style=\"color:gray\"><b>omg:</b></span> A 3-vector\n",
    "* <span style=\"color:gray\"><b>so3mat:</b></span> The corresponding 3×3 skew-symmetric matrix in $so(3)$."
   ]
  },
  {
   "cell_type": "code",
   "execution_count": 4,
   "metadata": {},
   "outputs": [
    {
     "name": "stdout",
     "output_type": "stream",
     "text": [
      "[[ 0.  -0.5  2. ]\n",
      " [ 0.5  0.  -1. ]\n",
      " [-2.   1.   0. ]]\n"
     ]
    }
   ],
   "source": [
    "omg = np.array([1, 2, 0.5])\n",
    "so3mat= mr.VecToso3(omg)\n",
    "print (so3mat)"
   ]
  },
  {
   "cell_type": "markdown",
   "metadata": {},
   "source": [
    "<b>11.</b>Use the function `MatrixExp3` in the given software to calculate the rotation matrix $R\\epsilon SO3$ corresponding to the matrix exponential of\n",
    "$$[\\hat{\\omega}]\\theta=\\begin{bmatrix}\n",
    "0 &0.5  &-1 \\\\ \n",
    "-0.5 &0  &2 \\\\ \n",
    "1 &-2  &0 \n",
    "\\end{bmatrix}$$\n",
    "\n",
    "The maximum allowable error for any matrix element is 0.01, so give enough decimal places where necessary."
   ]
  },
  {
   "cell_type": "markdown",
   "metadata": {},
   "source": [
    "* <span style=\"color:gray\"><b>R:</b></span> The $R'\\epsilon SO(3)$ that is achieved by rotating about $\\hat{\\omega}$ by $\\theta$ from an initial orientation $R = I$.\n"
   ]
  },
  {
   "cell_type": "code",
   "execution_count": 11,
   "metadata": {},
   "outputs": [
    {
     "name": "stdout",
     "output_type": "stream",
     "text": [
      "[[ 0.605  0.796 -0.012]\n",
      " [ 0.468 -0.344  0.814]\n",
      " [ 0.644 -0.498 -0.581]]\n"
     ]
    }
   ],
   "source": [
    "so3 = np.array([[0, 0.5, -1],\n",
    "              [-0.5, 0, 2],\n",
    "              [1, -2, 0]])\n",
    "R = mr.MatrixExp3(so3)\n",
    "print(np.round_(R,3))"
   ]
  },
  {
   "cell_type": "markdown",
   "metadata": {},
   "source": [
    "<b>12.</b> Use the function `MatrixLog3` in the given software to calculate the matrix logarithm $[\\hat{\\omega}]\\theta \\epsilon so(3)$ of rotation matrix\n",
    "\n",
    "$$R=\\begin{bmatrix}\n",
    "0 &0  &1 \\\\ \n",
    "-1 &0  &0 \\\\ \n",
    "0 &-1  &0 \n",
    "\\end{bmatrix}$$\n",
    "\n",
    "The maximum allowable error for any matrix element is 0.01, so give enough decimal places where necessary."
   ]
  },
  {
   "cell_type": "markdown",
   "metadata": {},
   "source": [
    "* <span style=\"color:gray\"><b>R:</b></span> Rotaion matrix\n",
    "* <span style=\"color:gray\"><b>so3mat:</b></span> The corresponding $so(3)$ representation of exponential coordinates.\n"
   ]
  },
  {
   "cell_type": "code",
   "execution_count": 12,
   "metadata": {},
   "outputs": [
    {
     "name": "stdout",
     "output_type": "stream",
     "text": [
      "[[ 0.     1.209  1.209]\n",
      " [-1.209  0.     1.209]\n",
      " [-1.209 -1.209  0.   ]]\n"
     ]
    }
   ],
   "source": [
    "R = np.array([[0, 0, 1],\n",
    "              [-1, 0, 0],\n",
    "              [0, -1, 0]])\n",
    "\n",
    "so3mat = mr.MatrixLog3(R)\n",
    "print(np.round_(so3mat,3))\n"
   ]
  },
  {
   "cell_type": "markdown",
   "metadata": {},
   "source": [
    "<h2><b>Chapter 3.3 and 3.4, Rigid-Body Motions</b></h2>"
   ]
  },
  {
   "cell_type": "markdown",
   "metadata": {},
   "source": [
    "<b>9</b>.Calculate the matrix exponential corresponding to the exponential coordinates of rigid-body motion $S\\theta=(0,1,2,3,0,0)^T$. The maximum allowable error for any matrix element is 0.01, so give enough decimal places where necessary."
   ]
  },
  {
   "cell_type": "markdown",
   "metadata": {},
   "source": [
    "* <span style=\"color:gray\"><b>V:</b></span> A 6-vector (representing a twist for example)\n",
    "\n",
    "* <span style=\"color:gray\"><b>se3mat:</b></span> The corresponding 4x4 se(3) matrix\n",
    "\n",
    "* <span style=\"color:gray\"><b>T:</b></span> The $T'  \\epsilon ~SE(3)$ that is achieved by traveling along/about the screw axis $S$ a distance $\\theta$ from an initial configuration $T=I$"
   ]
  },
  {
   "cell_type": "code",
   "execution_count": 6,
   "metadata": {},
   "outputs": [
    {
     "name": "stdout",
     "output_type": "stream",
     "text": [
      "[[-0.6173 -0.7037  0.3518  1.0555]\n",
      " [ 0.7037 -0.2938  0.6469  1.9407]\n",
      " [-0.3518  0.6469  0.6765 -0.9704]\n",
      " [ 0.      0.      0.      1.    ]]\n"
     ]
    }
   ],
   "source": [
    "V = np.array([0,1,2,3,0,0])\n",
    "se3mat = mr.VecTose3(V)\n",
    "T = mr.MatrixExp6(se3mat)\n",
    "print(np.round_(T,4))"
   ]
  },
  {
   "cell_type": "markdown",
   "metadata": {},
   "source": [
    "<b>11</b>.Use the function `TransInv` in the given software to calculate the inverse of the homogeneous transformation matrix: \n",
    "$$T= \\begin{bmatrix}\n",
    "0 &-1  &0  &3 \\\\ \n",
    " 1&0  &0  &0 \\\\ \n",
    " 0&0  &1  &1 \\\\ \n",
    " 0&0  &0  &1 \n",
    "\\end{bmatrix}$$\n",
    "\n",
    "All elements of this matrix should be integers"
   ]
  },
  {
   "cell_type": "markdown",
   "metadata": {},
   "source": [
    "* <span style=\"color:gray\"><b>T:</b></span>Transformation matrix\n",
    "\n",
    "* <span style=\"color:gray\"><b>invT:</b></span> Inverse of T.\n",
    "\n",
    "Uses the structure of transformation matrices to avoid taking a matrix inverse, for efficiency"
   ]
  },
  {
   "cell_type": "code",
   "execution_count": 7,
   "metadata": {},
   "outputs": [
    {
     "name": "stdout",
     "output_type": "stream",
     "text": [
      "[[ 0  1  0  0]\n",
      " [-1  0  0  3]\n",
      " [ 0  0  1 -1]\n",
      " [ 0  0  0  1]]\n"
     ]
    }
   ],
   "source": [
    "T = np.array([[0, -1, 0, 3],\n",
    "              [1, 0, 0, 0],\n",
    "              [0, 0, 1, 1],\n",
    "              [0, 0, 0, 1]])\n",
    "invT=mr.TransInv(T)\n",
    "print(invT)"
   ]
  },
  {
   "cell_type": "markdown",
   "metadata": {},
   "source": [
    "<b>12</b>.Write the $se(3)$ matrix corresponding to the twist $V=(1,0,0,0,2,3)^T$. All elements of this matrix should be integers.  Confirm your answer using the function `VecTose3` in the given software"
   ]
  },
  {
   "cell_type": "markdown",
   "metadata": {},
   "source": [
    "* <span style=\"color:gray\"><b>V:</b></span> A 6-vector (representing a twist for example)\n",
    "\n",
    "* <span style=\"color:gray\"><b>se3mat:</b></span> The corresponding 4x4 se(3) matrix"
   ]
  },
  {
   "cell_type": "code",
   "execution_count": 8,
   "metadata": {},
   "outputs": [
    {
     "name": "stdout",
     "output_type": "stream",
     "text": [
      "[[ 0.  0.  0.  0.]\n",
      " [ 0.  0. -1.  2.]\n",
      " [ 0.  1.  0.  3.]\n",
      " [ 0.  0.  0.  0.]]\n"
     ]
    }
   ],
   "source": [
    "V = np.array([1, 0, 0, 0, 2, 3])\n",
    "\n",
    "se3mat=mr.VecTose3(V)\n",
    "print(se3mat)"
   ]
  },
  {
   "cell_type": "markdown",
   "metadata": {},
   "source": [
    "<b>13</b>.Use the function `ScrewToAxis` in the given software to calculate the normalized screw axis representation $S$ of the screw described by a unit vector $\\hat{s}=(1,0,0)$ in the direction of the screw axis, located at the point $p=(0,0,2)$, with pitch $h=1$. All elements of this vector should be integers."
   ]
  },
  {
   "cell_type": "markdown",
   "metadata": {},
   "source": [
    "* <span style=\"color:gray\"><b>q:</b></span> A point $q \\epsilon R^3$ lying on the screw axis.\n",
    "* <span style=\"color:gray\"><b>s:</b></span> A unit vector $\\hat{s} \\epsilon R^3$ in the direction of the screw axis\n",
    "* <span style=\"color:gray\"><b>h:</b></span> The pitch $h \\epsilon R$ (linear velocity divided by angular velocity) of the screw axis.\n",
    "* <span style=\"color:gray\"><b>S:</b></span> The corresponding normalized screw axis $S=(w,v)$"
   ]
  },
  {
   "cell_type": "code",
   "execution_count": 9,
   "metadata": {},
   "outputs": [
    {
     "name": "stdout",
     "output_type": "stream",
     "text": [
      "[1 0 0 1 2 0]\n"
     ]
    }
   ],
   "source": [
    "s = np.array([1, 0, 0])\n",
    "q = np.array([0, 0, 2])\n",
    "h = 1\n",
    "\n",
    "S=mr.ScrewToAxis(q,s,h)\n",
    "print(S)"
   ]
  },
  {
   "cell_type": "markdown",
   "metadata": {},
   "source": [
    "<b>14</b>.Use the function `MatrixExp6` in the given software to calculate the homogeneous transformation matrix $T \\epsilon SE(3)$ corresponding to the matrix exponential of \n",
    "$$[S]\\theta=\\begin{bmatrix}\n",
    "0 &-1.5708  &0  &2.3562 \\\\ \n",
    " 1.5708&0  &0  &-2.3562 \\\\ \n",
    "0 &0  &0  &1 \\\\ \n",
    "0 &0  &0  &0 \n",
    "\\end{bmatrix}$$\n",
    "\n",
    "All elements of this matrix should be integers."
   ]
  },
  {
   "cell_type": "markdown",
   "metadata": {},
   "source": [
    "* <span style=\"color:gray\"><b>se3mat:</b></span> An se(3) representation of exponential coordinates for rigid-body motion,$[S\\theta]$\n",
    "\n",
    "* <span style=\"color:gray\"><b>T:</b></span> The $T'  \\epsilon ~SE(3)$ that is achieved by traveling along/about the screw axis $S$ a distance $\\theta$ from an initial configuration $T=I$"
   ]
  },
  {
   "cell_type": "code",
   "execution_count": 12,
   "metadata": {},
   "outputs": [
    {
     "name": "stdout",
     "output_type": "stream",
     "text": [
      "[[-0. -1.  0.  3.]\n",
      " [ 1. -0.  0.  0.]\n",
      " [ 0.  0.  1.  1.]\n",
      " [ 0.  0.  0.  1.]]\n"
     ]
    }
   ],
   "source": [
    "se3mat = np.array([[0, -1.5708, 0, 2.3562],\n",
    "                   [1.5708, 0, 0, -2.3562],\n",
    "                   [0, 0, 0, 1],\n",
    "                   [0, 0, 0, 0]])\n",
    "\n",
    "T = mr.MatrixExp6(se3mat)\n",
    "print(np.round_(T,4))"
   ]
  },
  {
   "cell_type": "markdown",
   "metadata": {},
   "source": [
    "<b>15</b>.Use the function `MatrixLog6` in the given software to calculate the matrix logarithm $[S]\\theta \\epsilon se(3)$ of the homogeneous transformation matrix\n",
    "$$T = \\begin{bmatrix}\n",
    "0 &-1  &0  &3 \\\\ \n",
    "1 &0  &0  &0 \\\\ \n",
    "0 &0  &1  &1 \\\\ \n",
    "0 &0  &0  &1 \n",
    "\\end{bmatrix}$$\n",
    "\n",
    "The maximum allowable error for any matrix element is 0.01, so give enough decimal places where necessary."
   ]
  },
  {
   "cell_type": "markdown",
   "metadata": {},
   "source": [
    "* <span style=\"color:gray\"><b>T:</b></span>Transformation matrix\n",
    "* <span style=\"color:gray\"><b>se3mat:</b></span> The correspinding $se(3)$ representation of exponential coordinates.\n"
   ]
  },
  {
   "cell_type": "code",
   "execution_count": 14,
   "metadata": {},
   "outputs": [
    {
     "name": "stdout",
     "output_type": "stream",
     "text": [
      "[[ 0.    -1.571  0.     2.356]\n",
      " [ 1.571  0.     0.    -2.356]\n",
      " [ 0.     0.     0.     1.   ]\n",
      " [ 0.     0.     0.     0.   ]]\n"
     ]
    }
   ],
   "source": [
    "T = np.array([[0, -1, 0, 3],\n",
    "              [1, 0, 0, -0],\n",
    "              [0, 0, 1, 1],\n",
    "              [0, 0, 0, 1]])\n",
    "\n",
    "se3mat = mr.MatrixLog6(T)\n",
    "print(np.round_(se3mat,3))"
   ]
  }
 ],
 "metadata": {
  "kernelspec": {
   "display_name": "Python 3 (ipykernel)",
   "language": "python",
   "name": "python3"
  },
  "language_info": {
   "codemirror_mode": {
    "name": "ipython",
    "version": 3
   },
   "file_extension": ".py",
   "mimetype": "text/x-python",
   "name": "python",
   "nbconvert_exporter": "python",
   "pygments_lexer": "ipython3",
   "version": "3.10.9"
  }
 },
 "nbformat": 4,
 "nbformat_minor": 4
}
