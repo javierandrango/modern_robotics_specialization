{
 "cells": [
  {
   "cell_type": "markdown",
   "metadata": {},
   "source": [
    "<center><h1>Course 2: Robot Kinematics</h1></center>"
   ]
  },
  {
   "cell_type": "markdown",
   "metadata": {},
   "source": [
    "**NOTE:**\n",
    "The variable names were assigned according to the code library documentation.\n",
    "\n",
    "The python code (Modern robotics library)is commented and mostly self-explanatory in conjunction with the book. An example use is provided with each function.\n",
    "\n",
    "Information on installing and using the library is available at the code website, https://github.com/NxRLab/ModernRobotics."
   ]
  },
  {
   "cell_type": "markdown",
   "metadata": {},
   "source": [
    "<b>Chapter 4 Forward Kinematics</b>"
   ]
  },
  {
   "cell_type": "code",
   "execution_count": 1,
   "metadata": {},
   "outputs": [],
   "source": [
    "import modern_robotics as mr\n",
    "import numpy as np"
   ]
  },
  {
   "cell_type": "markdown",
   "metadata": {},
   "source": [
    "<b>4</b>.Referring back to Question 1 and 2, given $L=1$ and joint variable values $\\theta = (-\\pi/2, \\pi/2, \\pi/3, -\\pi/4, 1, \\pi/6)$, use the function `FKinSpace` in the given software to find the end-effector configuration $T \\epsilon SE(3)$. The maximum allowable error for any number is 0.01, so give enough decimal places where necessary."
   ]
  },
  {
   "cell_type": "markdown",
   "metadata": {},
   "source": [
    "<img src=\"images/lesson1_exercise4_end_efector_conf.jpg\" width=300 height=300 />"
   ]
  },
  {
   "cell_type": "markdown",
   "metadata": {},
   "source": [
    "* <span style=\"color:gray\"><b>M:</b></span>The home configuration of the end-effector\n",
    "\n",
    "* <span style=\"color:gray\"><b>Slist:</b></span>The joint screw axes in the space frame when the manipulator is at the home position. \n",
    "\n",
    "* <span style=\"color:gray\"><b>thetalist:</b></span> A list of joint coordinate values.\n",
    "\n",
    "* <span style=\"color:gray\"><b>T:</b></span>The $T \\epsilon SE(3)$ representing the end-effector frame when the joints are at the specified coordinates. $T_{sb}=T$"
   ]
  },
  {
   "cell_type": "code",
   "execution_count": 4,
   "metadata": {
    "scrolled": true
   },
   "outputs": [
    {
     "name": "stdout",
     "output_type": "stream",
     "text": [
      "[[ 0.5     0.866   0.      1.    ]\n",
      " [ 0.2241 -0.1294 -0.9659 -1.8978]\n",
      " [-0.8365  0.483  -0.2588 -4.5085]\n",
      " [ 0.      0.      0.      1.    ]]\n"
     ]
    }
   ],
   "source": [
    "M = np.array([[1, 0, 0, 3.73205],\n",
    "              [0, 1, 0, 0      ],\n",
    "              [0, 0, 1, 2.73205],\n",
    "              [0, 0, 0, 1      ]])\n",
    "\n",
    "Slist = np.array([[ 0, 0, 0      , 0      , 0, 0       ],\n",
    "                  [ 0, 1, 1      , 1      , 0, 0       ],\n",
    "                  [ 1, 0, 0      , 0      , 0, 1       ],\n",
    "                  [ 0, 0, 1      ,-0.73205, 0, 0       ],\n",
    "                  [-1, 0, 0      , 0      , 0, -3.73205],\n",
    "                  [ 0, 1, 2.73205, 3.73205, 1, 0       ]])\n",
    "\n",
    "thetalist = np.array([-np.pi/2, np.pi/2, np.pi/3, -np.pi/4, 1, np.pi/6])\n",
    "\n",
    "T = mr.FKinSpace(M,Slist,thetalist)\n",
    "\n",
    "print(np.round_(T,4))"
   ]
  },
  {
   "cell_type": "markdown",
   "metadata": {},
   "source": [
    "<b>5</b>.Referring back to Question 1 and 3, given $L=1$ and joint variable values $\\theta = (-\\pi/2, \\pi/2, \\pi/3, -\\pi/4, 1, \\pi/6)$, use the function `FKinBody` in the given software to find the end-effector configuration $T \\epsilon SE(3)$. The maximum allowable error for any number is 0.01, so give enough decimal places where necessary."
   ]
  },
  {
   "cell_type": "markdown",
   "metadata": {},
   "source": [
    "* <span style=\"color:gray\"><b>M:</b></span>The home configuration of the end-effector\n",
    "\n",
    "* <span style=\"color:gray\"><b>Blist:</b></span>The joint screw axes in the end-effector frame when the manipulator is at the home position. \n",
    "\n",
    "* <span style=\"color:gray\"><b>thetalist:</b></span> A list of joint coordinate values.\n",
    "\n",
    "* <span style=\"color:gray\"><b>T:</b></span>The $T \\epsilon SE(3)$ representing the end-effector frame when the joints are at the specified coordinates. $T_{bs}=T$"
   ]
  },
  {
   "cell_type": "code",
   "execution_count": 7,
   "metadata": {},
   "outputs": [
    {
     "name": "stdout",
     "output_type": "stream",
     "text": [
      "[[ 0.5     0.866   0.      1.    ]\n",
      " [ 0.2241 -0.1294 -0.9659 -1.8978]\n",
      " [-0.8365  0.483  -0.2588 -4.5085]\n",
      " [ 0.      0.      0.      1.    ]]\n"
     ]
    }
   ],
   "source": [
    "M = np.array([[1, 0, 0, 3.73205],\n",
    "              [0, 1, 0, 0      ],\n",
    "              [0, 0, 1, 2.73205],\n",
    "              [0, 0, 0, 1      ]])\n",
    "\n",
    "Blist = np.array([[0      , 0       , 0      , 0, 0, 0],\n",
    "                  [0      , 1       , 1      , 1, 0, 0],\n",
    "                  [1      , 0       , 0      , 0, 0, 1],\n",
    "                  [0      , 2.73205 , 3.73205, 2, 0, 0],\n",
    "                  [2.73205, 0       , 0      , 0, 0, 0],\n",
    "                  [0      , -2.73205, -1     , 0, 1, 0]])\n",
    "\n",
    "thetalist = np.array([-np.pi/2, np.pi/2, np.pi/3, -np.pi/4, 1, np.pi/6])\n",
    "\n",
    "T = mr.FKinBody(M,Blist,thetalist)\n",
    "\n",
    "print(np.round_(T,4))"
   ]
  },
  {
   "cell_type": "markdown",
   "metadata": {},
   "source": [
    "<b>Chapter 5 Velocity Kinematics and Statics</b>"
   ]
  },
  {
   "cell_type": "markdown",
   "metadata": {},
   "source": [
    "<b>1</b>. A 3R planar open-chain robot is shown below.\n",
    "Suppose the tip generates a wrench that can be expressed in the space frame ${s}$ as a force of $2N$ in the $\\hat{{\\rm x}}_{{\\rm s}}$ direction, with no component in the $\\hat{{\\rm y}}_{{\\rm s}}$ direction and zero moment in the {s} frame.  What torques must be applied at each of the joints? Positive torque is counterclockwise (the joint axes are out of the screen, so positive rotation about the joints is counterclockwise).  Give the torque values in the form $(\\tau_1, \\tau_2, \\tau_3)$. The maximum allowable error for any number is 0.01, so give enough decimal places where necessary.\n",
    "\n",
    "**Important:**  Remember that the wrench applied by the robot end-effector has zero moment in the ${s}$ frame. **No other frame is defined in the problem. In particular, no frame is defined at the tip of the robot**."
   ]
  },
  {
   "cell_type": "markdown",
   "metadata": {},
   "source": [
    "<img src=\"images/lesson2_exercise1_3R_planar_open_chain.jpg\" width=300 height=300 />"
   ]
  },
  {
   "cell_type": "code",
   "execution_count": 7,
   "metadata": {},
   "outputs": [
    {
     "name": "stdout",
     "output_type": "stream",
     "text": [
      "Jacobian Space: \n",
      " [[ 0.          0.          0.        ]\n",
      " [ 0.          0.          0.        ]\n",
      " [ 1.          1.          1.        ]\n",
      " [ 0.          0.          0.70710678]\n",
      " [ 0.         -1.         -1.70710678]\n",
      " [ 0.          0.          0.        ]]\n",
      "\n",
      "torque: \n",
      " [[0.    ]\n",
      " [0.    ]\n",
      " [1.4142]]\n"
     ]
    }
   ],
   "source": [
    "Slist = np.array([[0, 0, 0],\n",
    "                  [0, 0, 0],\n",
    "                  [1, 1, 1],\n",
    "                  [0, 0, 0],\n",
    "                  [0, -1, -2],\n",
    "                  [0, 0, 0]])\n",
    "\n",
    "F=np.array([[0],[0],[0],[2],[0],[0]])\n",
    "thetalist = np.array([0, np.pi/4, -np.pi/4])\n",
    "\n",
    "Js = mr.JacobianSpace(Slist, thetalist)\n",
    "\n",
    "print(\"Jacobian Space: \\n\", Js)\n",
    "\n",
    "JsT=np.transpose(Js)\n",
    "torque=np.dot(JsT,F)\n",
    "\n",
    "print(\"\\ntorque: \\n\",np.round_(torque,4))"
   ]
  },
  {
   "cell_type": "markdown",
   "metadata": {},
   "source": [
    "<b>2</b>.The 4R planar open-chain robot below has an end-effector frame ${b}$ at its tip.\n",
    "\n",
    "Considering only the planar twist components $(\\omega_{bz}, v_{bx}, v_{by})$ of the body twist $V_b$, the body Jacobian is:\n",
    "$$J_b(\\theta)=\\begin{bmatrix}\n",
    "1 &1  &1  &1 \\\\ \n",
    "L_3s_4+L_2s_{34}+L_1s_{234} &L_3s_4+L_2s_{34}  &L_3s_4  &0 \\\\ \n",
    "L_4+L_3c_4+L_2c_{34}+L_1c_{234} &L_4+L_3c_4+L_2c_{34}  &L_4+L_3c_4  &L_4 \n",
    "\\end{bmatrix}$$\n",
    "\n",
    "where $s_{23}=sin(\\theta_2+\\theta_3)$, etc.\n",
    "\n",
    "Suppose $L_1=L_2=L_3=L_4=1$ and the chain is at the configuration $\\theta_1=\\theta_2=0, \\theta_3=\\pi/2, \\theta_4=-\\pi/2$. The joints generate torques to create the wrench $F_b=(0,0,10,10,10,0)$ at the last link.  What are the torques at each of the joints? Give the torque values in the form $(\\tau_1, \\tau_2, \\tau_3, \\tau_4)$. The maximum allowable error for any number is 0.01, so give enough decimal places where necessary."
   ]
  },
  {
   "cell_type": "markdown",
   "metadata": {},
   "source": [
    "<img src=\"images/lesson2_exercise2_4R_planar_open_chain.jpg\" width=300 height=300 />"
   ]
  },
  {
   "cell_type": "code",
   "execution_count": 16,
   "metadata": {},
   "outputs": [
    {
     "name": "stdout",
     "output_type": "stream",
     "text": [
      "torque:\n",
      " [[30.]\n",
      " [20.]\n",
      " [10.]\n",
      " [20.]]\n"
     ]
    }
   ],
   "source": [
    "import math as mt\n",
    "\n",
    "L1=L2=L3=L4=1\n",
    "\n",
    "t1=t2=0\n",
    "t3=mt.pi/2\n",
    "t4=-mt.pi/2\n",
    "\n",
    "s4=mt.sin(t4)\n",
    "s34=mt.sin(t3+t4)\n",
    "s234=mt.sin(t2+t3+t4)\n",
    "c4=mt.cos(t4)\n",
    "c34=mt.cos(t3+t4)\n",
    "c234=mt.cos(t2+t3+t4)\n",
    "\n",
    "'''\n",
    "#same result using Blist and tlist\n",
    "Blist=np.array([[0, 0, 0, 0],\n",
    "                [0, 0, 0, 0],\n",
    "                [1, 1, 1, 1],\n",
    "                [0, 0, 0, 0],\n",
    "                [4, 3, 2, 1],\n",
    "                [0, 0, 0, 0]])\n",
    "\n",
    "tlist=np.array([0, 0, np.pi/2, -np.pi/2])\n",
    "JBody=mr.JacobianBody(Blist,tlist)\n",
    "print(\"JBody\")\n",
    "print(JBody)\n",
    "print(\"------\")\n",
    "torque=np.dot(np.transpose(JBody),F)\n",
    "'''\n",
    "\n",
    "\n",
    "J = np.array([[0, 0, 0 ,0],\n",
    "              [0, 0, 0, 0],\n",
    "              [1, 1, 1, 1],\n",
    "              [L3*s4+L2*s34+L1*s234, L3*s4+L2*s34, L3*s4, 0],\n",
    "              [L4+L3*c4+L2*c34+L1*c234, L4+L3*c4+L2*c34, L4+L3*c4, L4],\n",
    "              [0, 0, 0, 0]])\n",
    "F= np.array([[0],[0],[10],[10],[10],[0]])\n",
    "torque=np.dot(np.transpose(J),F)\n",
    "print('torque:\\n', torque)"
   ]
  },
  {
   "cell_type": "markdown",
   "metadata": {},
   "source": [
    "<b>3</b>.The RRP robot is shown below in its zero position."
   ]
  },
  {
   "cell_type": "markdown",
   "metadata": {},
   "source": [
    "<img src=\"images/lesson2_exercise3_RRP_robot.jpg\" width=300 height=300 />"
   ]
  },
  {
   "cell_type": "markdown",
   "metadata": {},
   "source": [
    "Its screw axes in the space frame are \n",
    "$$S_1=\\begin{matrix}\n",
    "0\\\\\n",
    "0\\\\ \n",
    "1\\\\ \n",
    "0\\\\ \n",
    "0\\\\ \n",
    "0\\\\\n",
    "\\end{matrix}\n",
    "~~\n",
    "S_2=\\begin{matrix}\n",
    "1\\\\ \n",
    "0\\\\ \n",
    "0\\\\ \n",
    "0\\\\ \n",
    "2\\\\ \n",
    "0\\\\\n",
    "\\end{matrix}\n",
    "~~\n",
    "S_3=\\begin{matrix}\n",
    "0\\\\ \n",
    "0\\\\ \n",
    "0\\\\ \n",
    "0\\\\ \n",
    "1\\\\ \n",
    "0\\\\\n",
    "\\end{matrix}$$\n",
    "\n",
    "Use the function `JacobianSpace` in the given software to calculate the $6x3$ space Jacobian $J_s$ when $\\theta =(90^\\circ, 90^\\circ, 1)$. The maximum allowable error for any number is 0.01, so give enough decimal places where necessary."
   ]
  },
  {
   "cell_type": "code",
   "execution_count": 18,
   "metadata": {},
   "outputs": [
    {
     "name": "stdout",
     "output_type": "stream",
     "text": [
      "[[ 0.  0.  0.]\n",
      " [ 0.  1.  0.]\n",
      " [ 1.  0.  0.]\n",
      " [ 0. -2. -0.]\n",
      " [ 0.  0.  0.]\n",
      " [ 0.  0.  1.]]\n"
     ]
    }
   ],
   "source": [
    "Slist = np.array([[0, 1, 0],\n",
    "                 [0, 0, 0],\n",
    "                 [1, 0, 0],\n",
    "                 [0, 0, 0],\n",
    "                 [0, 2, 1],\n",
    "                 [0, 0, 0]])\n",
    "\n",
    "thetalist = np.array([np.pi/2, np.pi/2, 1])\n",
    "\n",
    "Js = mr.JacobianSpace(Slist, thetalist)\n",
    "\n",
    "print(np.round(Js,3))"
   ]
  },
  {
   "cell_type": "markdown",
   "metadata": {},
   "source": [
    "<b>4</b>.Referring back to Question 3, the screw axes in the body frame are:\n",
    "$$B_1=\\begin{matrix}\n",
    "0\\\\1\\\\0\\\\3\\\\0\\\\0\\\\\n",
    "\\end{matrix}\n",
    "~~\n",
    "B_2=\\begin{matrix}\n",
    "-1\\\\0\\\\0\\\\0\\\\3\\\\0\\\\\n",
    "\\end{matrix}\n",
    "~~\n",
    "B_3=\\begin{matrix}\n",
    "0\\\\0\\\\0\\\\0\\\\0\\\\1\\\\\n",
    "\\end{matrix}$$\n",
    "\n",
    "Use the function `JacobianBody` in the given software to calculate the $6x3$ body Jacobian $J_b$ when $\\theta =(90^\\circ, 90^\\circ, 1)$. The maximum allowable error for any number is 0.01, so give enough decimal places where necessary."
   ]
  },
  {
   "cell_type": "code",
   "execution_count": 20,
   "metadata": {},
   "outputs": [
    {
     "name": "stdout",
     "output_type": "stream",
     "text": [
      "[[ 0. -1.  0.]\n",
      " [ 0.  0.  0.]\n",
      " [ 1.  0.  0.]\n",
      " [ 0.  0.  0.]\n",
      " [ 0.  4.  0.]\n",
      " [ 0.  0.  1.]]\n"
     ]
    }
   ],
   "source": [
    "Blist = np.array([[0, -1, 0],\n",
    "                 [1, 0, 0],\n",
    "                 [0, 0, 0],\n",
    "                 [3, 0, 0],\n",
    "                 [0, 3, 0],\n",
    "                 [0, 0, 1]])\n",
    "\n",
    "thetalist = np.array([np.pi/2, np.pi/2, 1])\n",
    "\n",
    "Jb = mr.JacobianBody(Blist, thetalist)\n",
    "\n",
    "print(np.round_(Jb,3))\n"
   ]
  },
  {
   "cell_type": "markdown",
   "metadata": {},
   "source": [
    "<b>5</b>. The kinematics of the 7R WAM robot are given in Section 4.1.3 in the textbook. The numerical body Jacobian $J_b$ when all joint angles are $\\pi/2$ is\n",
    "\n",
    "$$J_b=\\begin{bmatrix}\n",
    "0 &-1  &0  &0  &-1  &0  &0 \\\\ \n",
    "0 &0  &1  &0  &0  &1  &0 \\\\ \n",
    "1 &0  &0  &1  &0  &0  &1 \\\\ \n",
    "-0.105 &0  &0.006  &-0.045  &0  &0.006  &0 \\\\ \n",
    "-0.889 &0.006  &0  &-0.844  &0.006  &0  &0 \\\\ \n",
    "0 &-0.105  &0.889  &0  &0  &0  &0 \n",
    "\\end{bmatrix}$$\n",
    "\n",
    "Extract the linear velocity portion $J_v$(joint rates act on linear velocity). Calculate the directions and lengths of the principal semi-axes of the three-dimensional linear velocity manipulability ellipsoid based on $J_v$. Give a unit vector, with at least 2 decimal places for each element in this vector, to represent the direction of the longest principal semi-axis. "
   ]
  },
  {
   "cell_type": "code",
   "execution_count": 62,
   "metadata": {
    "scrolled": true
   },
   "outputs": [
    {
     "name": "stdout",
     "output_type": "stream",
     "text": [
      "manipulability ellipsoid: \n",
      " [[ 1.3100e-02  1.3130e-01  5.3000e-03]\n",
      " [ 1.3130e-01  1.5027e+00 -6.0000e-04]\n",
      " [ 5.3000e-03 -6.0000e-04  8.0130e-01]]\n",
      "---------\n",
      "lenght of longest principal semi-axis:  1.514\n",
      "direction of longest semi-axis: [ 0.087  0.996 -0.   ]\n"
     ]
    }
   ],
   "source": [
    "import scipy.linalg as la\n",
    "\n",
    "J = np.array([[-0.105, 0, 0.006, -0.045, 0, 0.006, 0],\n",
    "              [-0.889, 0.006, 0, -0.844, 0.006, 0, 0],\n",
    "              [0, -0.105, 0.889, 0, 0, 0, 0]])\n",
    "invJ = mr.RotInv(J)\n",
    "A = np.dot(J,invJ) #manipulability ellipsoid\n",
    "print(\"manipulability ellipsoid: \\n\",np.round_(A,4))\n",
    "print(\"---------\")\n",
    "\n",
    "results = la.eig(A)\n",
    "e_values = results[0]\n",
    "e_vector = results[1]\n",
    "\n",
    "max_value = max(e_values)\n",
    "max_index = np.argmax(e_values)\n",
    "lon_direction = e_vector[:,max_index]\n",
    "print(\"lenght of longest principal semi-axis: \",np.real(np.round_(max_value,3)))\n",
    "print(\"direction of longest semi-axis:\", np.round_(lon_direction,3))"
   ]
  },
  {
   "cell_type": "markdown",
   "metadata": {},
   "source": [
    "<b>Chapter 6 Inverse Kinematics</b>"
   ]
  },
  {
   "cell_type": "markdown",
   "metadata": {},
   "source": [
    "<b>2</b>. Referring to the figure bellow, find the joint angles $\\theta_d = (\\theta_1,\\theta_2,\\theta_3)$ that put the 3R robot's end-effector frame ${b}$ at\n",
    "\n",
    "$$T(\\theta_d)=T_{sd}=\\begin{bmatrix}\n",
    "-0.585 &-0.811  &0  &0.076 \\\\ \n",
    "0.811 &-0.585  &0  &2.608 \\\\ \n",
    "0 &0  &1  &0 \\\\ \n",
    "0 &0  &0  &1 \n",
    "\\end{bmatrix}$$\n",
    "\n",
    "relative to the {s} frame, where linear distances are in meters.(The {s} frame is located at joint 1, but it is drawn at a different location for clarity).The robot is shown at its home configuration, and the screw axis for each joint points toward you (out of the screen). The length of each link is 1 meter. Your solution should use either `IKinBody` or `IKinSpace`, the initial guess $\\theta^0 = (\\pi/4,\\pi/4,\\pi/4) = (0.7854, 0.7854, 0.7854)$, and tolerances $\\epsilon_\\omega = 0.001$(0.057 degrees) and $\\epsilon_v = 0.0001$(0.1 mm). Give $\\theta_d$ as a vector with at least 2 decimal places for each element in the vector.(Note that there is more than one solution to the inverse kinematics for $T_{sd}$, but we are looking for the solution that is \"close\" to the initial guess $\\theta^0 = (\\pi/4,\\pi/4,\\pi/4)$, i.e., the solution that will be returned by `IKinBody` or `IKinSpace`.)"
   ]
  },
  {
   "cell_type": "markdown",
   "metadata": {},
   "source": [
    "<img src=\"images/lesson3_exercise2_IK_body.jpg\" width=300 height=300 />"
   ]
  },
  {
   "cell_type": "code",
   "execution_count": 65,
   "metadata": {},
   "outputs": [
    {
     "name": "stdout",
     "output_type": "stream",
     "text": [
      "thetalist: [0.92519754 0.58622516 0.68427316]\n",
      "success: True\n"
     ]
    }
   ],
   "source": [
    "\n",
    "Blist = np.array([[0, 0, 1, 0, 3, 0],\n",
    "                [0, 0,  1, 0, 2, 0],\n",
    "                [0, 0,  1, 0, 1, 0]]).T\n",
    "\n",
    "M = np.array([[1, 0,  0, 3],\n",
    "            [ 0, 1,  0, 0],\n",
    "            [ 0, 0, 1, 0],\n",
    "            [ 0, 0,  0, 1]])\n",
    "\n",
    "T = np.array([[-0.585, -0.811, 0, 0.076],\n",
    "            [0.811, -0.585, 0, 2.608],\n",
    "            [0, 0, 1, 0],\n",
    "            [0, 0, 0, 1]])\n",
    "\n",
    "thetalist0 = np.array([np.pi/4, np.pi/4, np.pi/4])\n",
    "eomg = 0.001\n",
    "ev = 0.0001\n",
    "\n",
    "[thetalist,success] = mr.IKinBody(Blist,M,T,thetalist0,eomg,ev)\n",
    "\n",
    "print(\"thetalist:\",thetalist)\n",
    "print(\"success:\",success)\n"
   ]
  },
  {
   "cell_type": "code",
   "execution_count": null,
   "metadata": {},
   "outputs": [],
   "source": []
  }
 ],
 "metadata": {
  "kernelspec": {
   "display_name": "Python 3",
   "language": "python",
   "name": "python3"
  },
  "language_info": {
   "codemirror_mode": {
    "name": "ipython",
    "version": 3
   },
   "file_extension": ".py",
   "mimetype": "text/x-python",
   "name": "python",
   "nbconvert_exporter": "python",
   "pygments_lexer": "ipython3",
   "version": "3.8.2"
  }
 },
 "nbformat": 4,
 "nbformat_minor": 4
}
