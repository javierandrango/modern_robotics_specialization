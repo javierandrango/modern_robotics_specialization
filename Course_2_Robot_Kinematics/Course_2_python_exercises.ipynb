{
 "cells": [
  {
   "cell_type": "markdown",
   "metadata": {},
   "source": [
    "<center><h1>Course 2: Robot Kinematics</h1></center>"
   ]
  },
  {
   "cell_type": "markdown",
   "metadata": {},
   "source": [
    "**NOTE:**\n",
    "The variable names were assigned according to the code library documentation.\n",
    "\n",
    "The python code (Modern robotics library)is commented and mostly self-explanatory in conjunction with the book. An example use is provided with each function.\n",
    "\n",
    "Information on installing and using the library is available at the code website, https://github.com/NxRLab/ModernRobotics."
   ]
  },
  {
   "cell_type": "markdown",
   "metadata": {},
   "source": [
    "<b>Chapter 4 Forward Kinematics</b>"
   ]
  },
  {
   "cell_type": "code",
   "execution_count": 2,
   "metadata": {},
   "outputs": [],
   "source": [
    "import modern_robotics as mr\n",
    "import numpy as np"
   ]
  },
  {
   "cell_type": "markdown",
   "metadata": {},
   "source": [
    "<b>4</b>.Referring back to Question 1 and 2, given $L=1$ and joint variable values $\\theta = (-\\pi/2, \\pi/2, \\pi/3, -\\pi/4, 1, \\pi/6)$, use the function `FKinSpace` in the given software to find the end-effector configuration $T \\epsilon SE(3)$. The maximum allowable error for any number is 0.01, so give enough decimal places where necessary."
   ]
  },
  {
   "attachments": {},
   "cell_type": "markdown",
   "metadata": {},
   "source": [
    "<img src=\"images/lesson1_exercise4_end_efector_conf.jpg\" width=300 height=300 />"
   ]
  },
  {
   "cell_type": "markdown",
   "metadata": {},
   "source": [
    "* <span style=\"color:gray\"><b>M:</b></span>The home configuration of the end-effector\n",
    "\n",
    "* <span style=\"color:gray\"><b>Slist:</b></span>The joint screw axes in the space frame when the manipulator is at the home position. \n",
    "\n",
    "* <span style=\"color:gray\"><b>thetalist:</b></span> A list of joint coordinate values.\n",
    "\n",
    "* <span style=\"color:gray\"><b>T:</b></span>The $T \\epsilon SE(3)$ representing the end-effector frame when the joints are at the specified coordinates. $T_{sb}=T$"
   ]
  },
  {
   "cell_type": "code",
   "execution_count": 4,
   "metadata": {
    "scrolled": true
   },
   "outputs": [
    {
     "name": "stdout",
     "output_type": "stream",
     "text": [
      "[[ 0.5     0.866   0.      1.    ]\n",
      " [ 0.2241 -0.1294 -0.9659 -1.8978]\n",
      " [-0.8365  0.483  -0.2588 -4.5085]\n",
      " [ 0.      0.      0.      1.    ]]\n"
     ]
    }
   ],
   "source": [
    "M = np.array([[1, 0, 0, 3.73205],\n",
    "              [0, 1, 0, 0      ],\n",
    "              [0, 0, 1, 2.73205],\n",
    "              [0, 0, 0, 1      ]])\n",
    "\n",
    "Slist = np.array([[ 0, 0, 0      , 0      , 0, 0       ],\n",
    "                  [ 0, 1, 1      , 1      , 0, 0       ],\n",
    "                  [ 1, 0, 0      , 0      , 0, 1       ],\n",
    "                  [ 0, 0, 1      ,-0.73205, 0, 0       ],\n",
    "                  [-1, 0, 0      , 0      , 0, -3.73205],\n",
    "                  [ 0, 1, 2.73205, 3.73205, 1, 0       ]])\n",
    "\n",
    "thetalist = np.array([-np.pi/2, np.pi/2, np.pi/3, -np.pi/4, 1, np.pi/6])\n",
    "\n",
    "T = mr.FKinSpace(M,Slist,thetalist)\n",
    "\n",
    "print(np.round_(T,4))"
   ]
  },
  {
   "cell_type": "markdown",
   "metadata": {},
   "source": [
    "<b>5</b>.Referring back to Question 1 and 3, given $L=1$ and joint variable values $\\theta = (-\\pi/2, \\pi/2, \\pi/3, -\\pi/4, 1, \\pi/6)$, use the function `FKinBody` in the given software to find the end-effector configuration $T \\epsilon SE(3)$. The maximum allowable error for any number is 0.01, so give enough decimal places where necessary."
   ]
  },
  {
   "cell_type": "markdown",
   "metadata": {},
   "source": [
    "* <span style=\"color:gray\"><b>M:</b></span>The home configuration of the end-effector\n",
    "\n",
    "* <span style=\"color:gray\"><b>Blist:</b></span>The joint screw axes in the end-effector frame when the manipulator is at the home position. \n",
    "\n",
    "* <span style=\"color:gray\"><b>thetalist:</b></span> A list of joint coordinate values.\n",
    "\n",
    "* <span style=\"color:gray\"><b>T:</b></span>The $T \\epsilon SE(3)$ representing the end-effector frame when the joints are at the specified coordinates. $T_{bs}=T$"
   ]
  },
  {
   "cell_type": "code",
   "execution_count": 7,
   "metadata": {},
   "outputs": [
    {
     "name": "stdout",
     "output_type": "stream",
     "text": [
      "[[ 0.5     0.866   0.      1.    ]\n",
      " [ 0.2241 -0.1294 -0.9659 -1.8978]\n",
      " [-0.8365  0.483  -0.2588 -4.5085]\n",
      " [ 0.      0.      0.      1.    ]]\n"
     ]
    }
   ],
   "source": [
    "M = np.array([[1, 0, 0, 3.73205],\n",
    "              [0, 1, 0, 0      ],\n",
    "              [0, 0, 1, 2.73205],\n",
    "              [0, 0, 0, 1      ]])\n",
    "\n",
    "Blist = np.array([[0      , 0       , 0      , 0, 0, 0],\n",
    "                  [0      , 1       , 1      , 1, 0, 0],\n",
    "                  [1      , 0       , 0      , 0, 0, 1],\n",
    "                  [0      , 2.73205 , 3.73205, 2, 0, 0],\n",
    "                  [2.73205, 0       , 0      , 0, 0, 0],\n",
    "                  [0      , -2.73205, -1     , 0, 1, 0]])\n",
    "\n",
    "thetalist = np.array([-np.pi/2, np.pi/2, np.pi/3, -np.pi/4, 1, np.pi/6])\n",
    "\n",
    "T = mr.FKinBody(M,Blist,thetalist)\n",
    "\n",
    "print(np.round_(T,4))"
   ]
  }
 ],
 "metadata": {
  "kernelspec": {
   "display_name": "Python 3",
   "language": "python",
   "name": "python3"
  },
  "language_info": {
   "codemirror_mode": {
    "name": "ipython",
    "version": 3
   },
   "file_extension": ".py",
   "mimetype": "text/x-python",
   "name": "python",
   "nbconvert_exporter": "python",
   "pygments_lexer": "ipython3",
   "version": "3.8.2"
  }
 },
 "nbformat": 4,
 "nbformat_minor": 4
}
