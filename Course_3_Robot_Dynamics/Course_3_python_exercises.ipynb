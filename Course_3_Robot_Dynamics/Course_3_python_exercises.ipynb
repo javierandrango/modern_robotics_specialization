{
 "cells": [
  {
   "cell_type": "markdown",
   "metadata": {},
   "source": [
    "<center><h1>Course 3: Robot Dynamics</h1></center>"
   ]
  },
  {
   "cell_type": "markdown",
   "metadata": {},
   "source": [
    "**NOTE:**\n",
    "\n",
    "The variable names were assigned according to the code library documentation.\n",
    "\n",
    "The python code (Modern robotics library)is commented and mostly self-explanatory in conjunction with the book. An example use is provided with each function.\n",
    "\n",
    "Information on installing and using the library is available at the code website, https://github.com/NxRLab/ModernRobotics."
   ]
  },
  {
   "cell_type": "markdown",
   "metadata": {},
   "source": [
    "<h2><b>Chapter 8 through 8.3, Dynamics of Open Chains</b></h2>"
   ]
  },
  {
   "cell_type": "code",
   "execution_count": 1,
   "metadata": {},
   "outputs": [],
   "source": [
    "# These libraries are used in every exercise\n",
    "import modern_robotics as mr\n",
    "import numpy as np"
   ]
  },
  {
   "cell_type": "markdown",
   "metadata": {},
   "source": [
    "<b>5.</b> An inexact model of the UR5 mass and kinematic properties is given below:\n",
    "\n",
    "$\n",
    "M_{01} =\\begin{bmatrix}\n",
    "1 &0  &0  &0 \\\\ \n",
    "0 &1  &0  &0 \\\\ \n",
    "0 &0  &1  &0.089159 \\\\ \n",
    "0 &0  &0  &1 \n",
    "\\end{bmatrix},\n",
    "M_{12} =\\begin{bmatrix}\n",
    "0 &0  &1  &0.28 \\\\ \n",
    "0 &1  &0  &0.13585 \\\\ \n",
    "-1 &0  &0  &0 \\\\ \n",
    "0 &0  &0  &1 \n",
    "\\end{bmatrix},\\\\\n",
    "M_{23} =\\begin{bmatrix}\n",
    "1 &0  &0  &0 \\\\ \n",
    "0 &1  &0  &-0.1197 \\\\ \n",
    "0 &0  &1  &0.395 \\\\ \n",
    "0 &0  &0  &1 \n",
    "\\end{bmatrix},\n",
    "M_{34} =\\begin{bmatrix}\n",
    "0 &0  &1  &0 \\\\ \n",
    "0 &1  &0  &0 \\\\ \n",
    "-1 &0  &0  &0.14225 \\\\ \n",
    "0 &0  &0  &1 \n",
    "\\end{bmatrix},\\\\\n",
    "M_{45} =\\begin{bmatrix}\n",
    "1 &0  &0  &0 \\\\ \n",
    "0 &1  &0  &0.093 \\\\ \n",
    "0 &0  &1  &0 \\\\ \n",
    "0 &0  &0  &1 \n",
    "\\end{bmatrix},\n",
    "M_{56} =\\begin{bmatrix}\n",
    "1 &0  &0  &0 \\\\ \n",
    "0 &1  &0  &0 \\\\ \n",
    "0 &0  &1  &0.09465 \\\\ \n",
    "0 &0  &0  &1 \n",
    "\\end{bmatrix},\\\\\n",
    "M_{67} =\\begin{bmatrix}\n",
    "1 &0  &0  &0 \\\\ \n",
    "0 &0  &1  &0.0823 \\\\ \n",
    "0 &-1  &0  &0 \\\\ \n",
    "0 &0  &0  &1 \n",
    "\\end{bmatrix}\n",
    "$\n",
    "\n",
    "$\n",
    "G1 = diag([0.010267495893, 0.010267495893,  0.00666, 3.7, 3.7, 3.7])\\\\\n",
    "\\\\\n",
    "G2 = diag([0.22689067591, 0.22689067591, 0.0151074, 8.393, 8.393, 8.393])\\\\\n",
    "\\\\\n",
    "G3 = diag([0.049443313556, 0.049443313556, 0.004095, 2.275, 2.275, 2.275])\\\\\n",
    "\\\\\n",
    "G4 = diag([0.111172755531, 0.111172755531, 0.21942, 1.219, 1.219, 1.219])\\\\\n",
    "\\\\\n",
    "G5 = diag([0.111172755531, 0.111172755531, 0.21942, 1.219, 1.219, 1.219])\\\\\n",
    "\\\\\n",
    "G6 = diag([0.0171364731454, 0.0171364731454, 0.033822, 0.1879, 0.1879, 0.1879])\n",
    "$\n",
    "\n",
    "$\n",
    "Slist = \\begin{bmatrix}\n",
    "0 &0  &0  &0  &0  &0 \\\\ \n",
    "0 &1  &1  &1  &0  &1 \\\\ \n",
    "1 &0  &0  &0  &-1  &0 \\\\ \n",
    "0 &-0.089159  &-0.089159  &-0.089159  &-0.10915  &0.005491 \\\\ \n",
    "0 &0  &0  &0  &0.81725  &0 \\\\ \n",
    "0 &0  &0.425  &0.81725  &0  &0.81725 \n",
    "\\end{bmatrix}\\\\\n",
    "$\n",
    "\n",
    "$\n",
    "\\theta = \\begin{matrix}\n",
    "0\\\\ \\pi/6\\\\ \\pi/4\\\\ \\pi/3\\\\ \\pi/2\\\\ 2\\pi/3\n",
    "\\end{matrix},~~\n",
    "\\dot{\\theta} = \\begin{matrix}\n",
    "0.2\\\\ 0.2\\\\ 0.2\\\\ 0.2\\\\ 0.2\\\\ 0.2\n",
    "\\end{matrix},~~\n",
    "\\ddot{\\theta} = \\begin{matrix}\n",
    "0.1\\\\ 0.1\\\\ 0.1\\\\ 0.1\\\\ 0.1\\\\ 0.1\n",
    "\\end{matrix},~~\n",
    "g = \\begin{matrix}\n",
    "0\\\\ 0\\\\ -9.81\n",
    "\\end{matrix},~~\n",
    "F_{tip} = \\begin{matrix}\n",
    "0.1\\\\ 0.1\\\\ 0.1\\\\ 0.1\\\\ 0.1\\\\ 0.1\n",
    "\\end{matrix}\n",
    "$\n",
    "\n",
    "use the function `InverseDynamics`  in the given software to calculate the required joint forces/torques of  the robot. The maximum allowable error for any number is $0.01$, so give enough decimal places where necessary.\n"
   ]
  },
  {
   "cell_type": "markdown",
   "metadata": {},
   "source": [
    "<img src=\"images/UR5_model_6axis_robot.PNG\" width=300 height=300 />"
   ]
  },
  {
   "cell_type": "markdown",
   "metadata": {},
   "source": [
    "* <span style=\"color:gray\"><b>thetalist:</b></span> n-vector of join variables $\\theta$.\n",
    "* <span style=\"color:gray\"><b>dthetalist:</b></span> n-vector of join velocities $\\dot{\\theta}$.\n",
    "* <span style=\"color:gray\"><b>ddthetalist:</b></span> n-vector of join accelerations $\\ddot{\\theta}$.\n",
    "* <span style=\"color:gray\"><b>g:</b></span> Gravity vector $g$.\n",
    "* <span style=\"color:gray\"><b>Ftip:</b></span> Wrench $F_{tip}$ applied by the end-effector expressed in frame $\\{n+1\\}$. \n",
    "* <span style=\"color:gray\"><b>Mlist:</b></span> List of link frames $\\{i\\}$ relative to $\\{i-1\\}$ at the home position.\n",
    "* <span style=\"color:gray\"><b>Glist:</b></span> Spatial inertia matrices $G_i$ of the links.\n",
    "* <span style=\"color:gray\"><b>Slist:</b></span> Screw axes $S_i$ of the joints in a space frame.\n",
    "* <span style=\"color:gray\"><b>taulist:</b></span> The n-vector $\\tau$ of required joint forces/torques"
   ]
  },
  {
   "cell_type": "code",
   "execution_count": 34,
   "metadata": {},
   "outputs": [
    {
     "name": "stdout",
     "output_type": "stream",
     "text": [
      "0.0128, -41.1477, -3.7809, 0.0323, 0.0370, 0.1034, "
     ]
    }
   ],
   "source": [
    "import math\n",
    "\n",
    "# Data can be found here:\n",
    "# https://d3c33hcgiwev3.cloudfront.net/_be39b6c4a1f5e8e9109587e3e5a1ae56_UR5_parameter.py?Expires=1653696000&Signature=UPni7nFKCHq8F6vdeFPCY4qBacH8lH3VSjQdkzdG-MsPd1os-EzESeJatjROTXruH9vsNUwoX8oqr6cHo5O~WaZZr4I6H5JKwh-PBG~NF9OPixyPHkSqvMMrjvljHCMhJtTp1UgUiPnh07rLo3yqNVi9OVQPNSWcGcmOGpi1w6I_&Key-Pair-Id=APKAJLTNE6QMUY6HBC5A\n",
    "\n",
    "M01 = [[1, 0, 0, 0], [0, 1, 0, 0], [0, 0, 1, 0.089159], [0, 0, 0, 1]]\n",
    "M12 = [[0, 0, 1, 0.28], [0, 1, 0, 0.13585], [-1, 0, 0, 0], [0, 0, 0, 1]]\n",
    "M23 = [[1, 0, 0, 0], [0, 1, 0, -0.1197], [0, 0, 1, 0.395], [0, 0, 0, 1]]\n",
    "M34 = [[0, 0, 1, 0], [0, 1, 0, 0], [-1, 0, 0, 0.14225], [0, 0, 0, 1]]\n",
    "M45 = [[1, 0, 0, 0], [0, 1, 0, 0.093], [0, 0, 1, 0], [0, 0, 0, 1]]\n",
    "M56 = [[1, 0, 0, 0], [0, 1, 0, 0], [0, 0, 1, 0.09465], [0, 0, 0, 1]]\n",
    "M67 = [[1, 0, 0, 0], [0, 0, 1, 0.0823], [0, -1, 0, 0], [0, 0, 0, 1]]\n",
    "G1 = np.diag([0.010267495893, 0.010267495893,  0.00666, 3.7, 3.7, 3.7])\n",
    "G2 = np.diag([0.22689067591, 0.22689067591, 0.0151074, 8.393, 8.393, 8.393])\n",
    "G3 = np.diag([0.049443313556, 0.049443313556, 0.004095, 2.275, 2.275, 2.275])\n",
    "G4 = np.diag([0.111172755531, 0.111172755531, 0.21942, 1.219, 1.219, 1.219])\n",
    "G5 = np.diag([0.111172755531, 0.111172755531, 0.21942, 1.219, 1.219, 1.219])\n",
    "G6 = np.diag([0.0171364731454, 0.0171364731454, 0.033822, 0.1879, 0.1879, 0.1879])\n",
    "Glist = [G1, G2, G3, G4, G5, G6]\n",
    "Mlist = [M01, M12, M23, M34, M45, M56, M67] \n",
    "Slist = [[0,         0,         0,         0,        0,        0],\n",
    "         [0,         1,         1,         1,        0,        1],\n",
    "         [1,         0,         0,         0,       -1,        0],\n",
    "         [0, -0.089159, -0.089159, -0.089159, -0.10915, 0.005491],\n",
    "         [0,         0,         0,         0,  0.81725,        0],\n",
    "         [0,         0,     0.425,   0.81725,        0,  0.81725]]\n",
    "\n",
    "thetalist=[0, np.pi/6, np.pi/4, np.pi/3, np.pi/2, 2*(np.pi/3)]\n",
    "\n",
    "dthetalist=[0.2, 0.2, 0.2, 0.2, 0.2, 0.2]\n",
    "\n",
    "ddthetalist=[0.1, 0.1, 0.1, 0.1, 0.1, 0.1]\n",
    "\n",
    "g=[0, 0, -9.81] \n",
    "\n",
    "Ftip=[0.1, 0.1, 0.1, 0.1, 0.1, 0.1]\n",
    "\n",
    "taulist = mr.InverseDynamics(thetalist,dthetalist,ddthetalist,\n",
    "g,Ftip,Mlist,Glist,Slist)\n",
    "\n",
    "#avoid scientific notation\n",
    "for item in taulist:\n",
    "    print(\"{:.4f}\".format(item),end=\", \")\n"
   ]
  },
  {
   "cell_type": "markdown",
   "metadata": {},
   "source": [
    "<h2><b>Chapter 8.5-8.7 and 8.9, Dynamics of Open Chains</b></h2>"
   ]
  },
  {
   "cell_type": "markdown",
   "metadata": {},
   "source": [
    "<b>1 - 5</b>.A robot system (UR5) is defined as: \n",
    "\n",
    "(**Use parameters in previous exercise in this notebook**)\n",
    "\n",
    "Use the function:\n",
    "* `MassMatrix` to calculate the numerical inertia matrix of the robot. \n",
    "\n",
    "* `VelQuadraticForces` to calculate the Coriolis and centripetal terms in the robot's dynamics (This function calls InverseDynamics with $g = 0, F_{tip} = 0, and \\ddot{\\theta} = 0$)\n",
    "\n",
    "* `GravityForces` to calculate the joint forces/torques required to overcome gravity\n",
    "\n",
    "* `EndEffectorForces` to calculate the joint forces/torques required to generate the wrench $F_{tip}$. (This function calls InverseDynamics with $\\dot{\\theta} = \\ddot{\\theta} = 0 and F_{tip} = 0$)\n",
    "\n",
    "* `ForwardDynamics` to find the joint acceleration (This function computes $\\ddot{\\theta}$ by solving: $M(\\theta)\\ddot{\\theta}=\\tau - c(\\theta,\\dot{\\theta}) - g(\\theta) - J^T(\\theta)F_{tip}$ )\n",
    "\n",
    "The maximum allowable error for any number is $0.01$, so give enough decimal places where necessary."
   ]
  },
  {
   "cell_type": "markdown",
   "metadata": {},
   "source": [
    "* <span style=\"color:gray\"><b>thetalist:</b></span> n-vector of join variables $\\theta$.\n",
    "* <span style=\"color:gray\"><b>Mlist:</b></span> List of link frames $\\{i\\}$ relative to $\\{i-1\\}$ at the home position.\n",
    "* <span style=\"color:gray\"><b>Glist:</b></span> Spatial inertia matrices $G_i$ of the links.\n",
    "* <span style=\"color:gray\"><b>Slist:</b></span> Screw axes $S_i$ of the joints in a space frame.\n",
    "* <span style=\"color:gray\"><b>M:</b></span> The numerical inertia matrix $M(\\theta)$ of an n-joint serial chain at the given configuration $\\theta$.\n",
    "* <span style=\"color:gray\"><b>c:</b></span> The vector $c(\\theta, \\dot{\\theta})$ of Coriolis and centripetal terms for a given $\\theta$ and $\\dot{\\theta}$\n",
    "* <span style=\"color:gray\"><b>grav:</b></span> The joint forces/torques required to balance gravity at $\\theta$\n",
    "* <span style=\"color:gray\"><b>JTFtip:</b></span> The joint forces and torques $J^T(θ)F_{tip}$ required to create the end-effector force Ftip\n",
    "* <span style=\"color:gray\"><b>ddthetalist:</b></span> The resulting joint acceleration $\\ddot{\\theta}$\n"
   ]
  },
  {
   "cell_type": "code",
   "execution_count": 48,
   "metadata": {},
   "outputs": [
    {
     "name": "stdout",
     "output_type": "stream",
     "text": [
      "1. Numerical inertia matrix of the robot:\n",
      "\n",
      "[[ 2.19777  0.27228  0.06803 -0.00648  0.17022 -0.01212]\n",
      " [ 0.27228  3.55369  1.31041  0.24034 -0.00723  0.     ]\n",
      " [ 0.06803  1.31041  0.83725  0.24764 -0.00723  0.     ]\n",
      " [-0.00648  0.24034  0.24764  0.25368 -0.00723  0.     ]\n",
      " [ 0.17022 -0.00723 -0.00723 -0.00723  0.24073  0.     ]\n",
      " [-0.01212  0.       0.       0.       0.       0.01714]]\n",
      "\n",
      "\n",
      "2. Coriolis and centripetal terms in the robot's dynamics:\n",
      "\n",
      "[-0.11745 -0.01071  0.03165 -0.01477  0.02339  0.00287]\n",
      "\n",
      "\n",
      "3.  joint forces/torques required to overcome gravity:\n",
      "\n",
      "[  0.      -41.59673  -3.93591   0.12337   0.        0.     ]\n",
      "\n",
      "\n",
      "4.  joint forces/torques required to generate the wrench Ftip:\n",
      "\n",
      "[-0.13875 -0.07721 -0.12229 -0.14908 -0.02536  0.1    ]\n",
      "\n",
      "\n",
      "5.  joint acceleration:\n",
      "\n",
      "[0.10001 0.09995 0.10017 0.09985 0.10019 0.10191]\n",
      "\n"
     ]
    }
   ],
   "source": [
    "import math\n",
    "\n",
    "M01 = [[1, 0, 0, 0], [0, 1, 0, 0], [0, 0, 1, 0.089159], [0, 0, 0, 1]]\n",
    "M12 = [[0, 0, 1, 0.28], [0, 1, 0, 0.13585], [-1, 0, 0, 0], [0, 0, 0, 1]]\n",
    "M23 = [[1, 0, 0, 0], [0, 1, 0, -0.1197], [0, 0, 1, 0.395], [0, 0, 0, 1]]\n",
    "M34 = [[0, 0, 1, 0], [0, 1, 0, 0], [-1, 0, 0, 0.14225], [0, 0, 0, 1]]\n",
    "M45 = [[1, 0, 0, 0], [0, 1, 0, 0.093], [0, 0, 1, 0], [0, 0, 0, 1]]\n",
    "M56 = [[1, 0, 0, 0], [0, 1, 0, 0], [0, 0, 1, 0.09465], [0, 0, 0, 1]]\n",
    "M67 = [[1, 0, 0, 0], [0, 0, 1, 0.0823], [0, -1, 0, 0], [0, 0, 0, 1]]\n",
    "G1 = np.diag([0.010267495893, 0.010267495893,  0.00666, 3.7, 3.7, 3.7])\n",
    "G2 = np.diag([0.22689067591, 0.22689067591, 0.0151074, 8.393, 8.393, 8.393])\n",
    "G3 = np.diag([0.049443313556, 0.049443313556, 0.004095, 2.275, 2.275, 2.275])\n",
    "G4 = np.diag([0.111172755531, 0.111172755531, 0.21942, 1.219, 1.219, 1.219])\n",
    "G5 = np.diag([0.111172755531, 0.111172755531, 0.21942, 1.219, 1.219, 1.219])\n",
    "G6 = np.diag([0.0171364731454, 0.0171364731454, 0.033822, 0.1879, 0.1879, 0.1879])\n",
    "Glist = [G1, G2, G3, G4, G5, G6]\n",
    "Mlist = [M01, M12, M23, M34, M45, M56, M67] \n",
    "Slist = [[0,         0,         0,         0,        0,        0],\n",
    "         [0,         1,         1,         1,        0,        1],\n",
    "         [1,         0,         0,         0,       -1,        0],\n",
    "         [0, -0.089159, -0.089159, -0.089159, -0.10915, 0.005491],\n",
    "         [0,         0,         0,         0,  0.81725,        0],\n",
    "         [0,         0,     0.425,   0.81725,        0,  0.81725]]\n",
    "\n",
    "thetalist=[0, np.pi/6, np.pi/4, np.pi/3, np.pi/2, 2*(np.pi/3)]\n",
    "\n",
    "dthetalist=[0.2, 0.2, 0.2, 0.2, 0.2, 0.2]\n",
    "\n",
    "ddthetalist=[0.1, 0.1, 0.1, 0.1, 0.1, 0.1]\n",
    "\n",
    "g=[0, 0, -9.81] \n",
    "\n",
    "Ftip=[0.1, 0.1, 0.1, 0.1, 0.1, 0.1]\n",
    "\n",
    "taulist=[0.0128, -41.1477, -3.7809, 0.0323, 0.0370, 0.1034]\n",
    "\n",
    "\n",
    "M = mr.MassMatrix(thetalist, Mlist, Glist, Slist)\n",
    "c = mr.VelQuadraticForces(thetalist,dthetalist,Mlist,Glist,Slist)\n",
    "grav = mr.GravityForces(thetalist,g,Mlist,Glist,Slist)\n",
    "JTFtip = mr.EndEffectorForces(thetalist,Ftip,Mlist,Glist,Slist)\n",
    "ddthetalist = mr.ForwardDynamics(thetalist,dthetalist,taulist,g,Ftip,Mlist,Glist,Slist)\n",
    "\n",
    "\n",
    "#avoid scientific notation\n",
    "np.set_printoptions(suppress=True)\n",
    "print(\"1. Numerical inertia matrix of the robot:\",np.round_(M,5),sep='\\n\\n',end='\\n\\n\\n')\n",
    "\n",
    "print(\"2. Coriolis and centripetal terms in the robot's dynamics:\",np.round_(c,5),sep='\\n\\n',end='\\n\\n\\n')\n",
    "\n",
    "print(\"3.  joint forces/torques required to overcome gravity:\",np.round_(grav,5),sep='\\n\\n',end='\\n\\n\\n')\n",
    "\n",
    "print(\"4.  joint forces/torques required to generate the wrench Ftip:\",np.round_(JTFtip,5),sep='\\n\\n',end='\\n\\n\\n')\n",
    "\n",
    "print(\"5.  joint acceleration:\",np.round_(ddthetalist,5),sep='\\n\\n',end='\\n\\n')"
   ]
  },
  {
   "cell_type": "markdown",
   "metadata": {},
   "source": [
    "<h2><b>Chapter 9 through 9.3, Trajectory Generation</b></h2>"
   ]
  },
  {
   "cell_type": "markdown",
   "metadata": {},
   "source": [
    "<b>5</b>. Given a total travel time $T=5$ and the current time $t=3$, use the function `QuinticTimeScaling` in the given software to calculate the current path parameter $s$, with at least 2 decimal places, corresponding to a motion that begins and ends at zero velocity and acceleration."
   ]
  },
  {
   "cell_type": "markdown",
   "metadata": {},
   "source": [
    "* <span style=\"color:gray\"><b>Tf: </b></span>Total time of the motion $T_f$ in seconds from rest to rest\n",
    "\n",
    "* <span style=\"color:gray\"><b>t: </b></span> The current time $t$ satisfying $0 ≤ t ≤ T_f$\n",
    "\n",
    "* <span style=\"color:gray\"><b>s: </b></span> The path parameter $s(t)$ corresponding to a fifth-order polynomial motion that begins (at $s(0) = 0$) and ends (at $s(T_f) = 1$) at zero velocity and zero acceleration."
   ]
  },
  {
   "cell_type": "code",
   "execution_count": 50,
   "metadata": {},
   "outputs": [
    {
     "name": "stdout",
     "output_type": "stream",
     "text": [
      "0.6826\n"
     ]
    }
   ],
   "source": [
    "import math\n",
    "\n",
    "Tf = 5\n",
    "t = 3\n",
    "\n",
    "s = mr.QuinticTimeScaling(Tf, t)\n",
    "\n",
    "print(round(s,4))"
   ]
  },
  {
   "cell_type": "markdown",
   "metadata": {},
   "source": [
    "<b>6</b>. Use the function `ScrewTrajectory` in the given software to calculate a trajectory as a list of $N=10 SE(3)$ matrices, where each matrix represents the configuration of the end-effector at an instant in time. The first matrix is:\n",
    "\n",
    "$$\n",
    "X_{start}=\\begin{bmatrix}\n",
    " 1&0  &0  &0 \\\\ \n",
    " 0&1  &0  &0 \\\\ \n",
    " 0&0  &1  &0 \\\\ \n",
    " 0&0  &0  &1 \n",
    "\\end{bmatrix}\n",
    "$$\n",
    "\n",
    "and the 10th matrix is:\n",
    "\n",
    "$$\n",
    "X_{end}=\\begin{bmatrix}\n",
    " 0&0  &1  &1 \\\\ \n",
    " 1&0  &0  &2 \\\\ \n",
    " 0&1  &0  &3 \\\\ \n",
    " 0&0  &0  &1 \n",
    "\\end{bmatrix}\n",
    "$$\n",
    "\n",
    "The motion is along a constant screw axis and the duration is $T_f=10$. The parameter $method$ equals 3 for a cubic time scaling. Give the 9th matrix (one before $X_{end}$) in the returned trajectory.  The maximum allowable error for any matrix entry is $0.01$, so give enough decimal places where necessary.\n"
   ]
  },
  {
   "cell_type": "markdown",
   "metadata": {},
   "source": [
    "* <span style=\"color:gray\"><b>Xstart: </b></span> The initial end-effector configuration $X_{start} ~\\epsilon ~SE(3)$\n",
    "* <span style=\"color:gray\"><b>Xend: </b></span> The final end-effector configuration $X_{end}$.\n",
    "* <span style=\"color:gray\"><b>Tf: </b></span> Total time of the motion $T_f$ in seconds from rest to rest. \n",
    "* <span style=\"color:gray\"><b>N: </b></span> The number of points $N ≥ 2$ in the discrete representation of the trajectory.\n",
    "* <span style=\"color:gray\"><b>method: </b></span> The time-scaling method, where 3 indicates cubic (third-order polynomial) time scaling and 5 indicates quintic (fifth-order polynomial) time scaling.\n",
    "* <span style=\"color:gray\"><b>traj: </b></span> The discretized trajectory as a list of $N$ matrices in $SE(3)$ separated in time by $T_f/(N −\n",
    "1)$. The first in the list is $X_{start}$ and the $N_{th}$ is $X_{end}$."
   ]
  },
  {
   "cell_type": "code",
   "execution_count": 54,
   "metadata": {},
   "outputs": [
    {
     "name": "stdout",
     "output_type": "stream",
     "text": [
      "9th trajectory: \n",
      "[[ 0.0423 -0.0406  0.9983  0.9331]\n",
      " [ 0.9983  0.0423 -0.0406  1.972 ]\n",
      " [-0.0406  0.9983  0.0423  2.8891]\n",
      " [ 0.      0.      0.      1.    ]]\n",
      "\n"
     ]
    }
   ],
   "source": [
    "import math\n",
    "\n",
    "Xstart = np.array([[1, 0, 0, 0],\n",
    "                   [0, 1, 0, 0],\n",
    "                   [0, 0, 1, 0],\n",
    "                   [0, 0, 0, 1]])\n",
    "\n",
    "Xend = np.array([[0, 0, 1, 1],\n",
    "                 [1, 0, 0, 2],\n",
    "                 [0, 1, 0, 3],\n",
    "                 [0, 0, 0, 1]])\n",
    "Tf = 10\n",
    "N = 10\n",
    "method = 3 #cubic time scaling\n",
    "\n",
    "traj = mr.ScrewTrajectory(Xstart,Xend,Tf,N,method)\n",
    "\n",
    "print (\"9th trajectory: \",np.round_(traj[8],4),sep=\"\\n\",end=\"\\n\\n\")\n"
   ]
  }
 ],
 "metadata": {
  "kernelspec": {
   "display_name": "Python 3 (ipykernel)",
   "language": "python",
   "name": "python3"
  },
  "language_info": {
   "codemirror_mode": {
    "name": "ipython",
    "version": 3
   },
   "file_extension": ".py",
   "mimetype": "text/x-python",
   "name": "python",
   "nbconvert_exporter": "python",
   "pygments_lexer": "ipython3",
   "version": "3.9.7"
  }
 },
 "nbformat": 4,
 "nbformat_minor": 4
}
