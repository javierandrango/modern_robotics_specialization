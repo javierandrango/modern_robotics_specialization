{
 "cells": [
  {
   "cell_type": "markdown",
   "metadata": {},
   "source": [
    "<center><h1>Course 1: Foundations of Robot Motion</h1></center>"
   ]
  },
  {
   "cell_type": "markdown",
   "metadata": {},
   "source": [
    "<b>Chapter 3 through 3.2, Rigid-Body Motions (Modern Robotics by Frank C. Park and Kevin M. Lynch)</b>"
   ]
  },
  {
   "cell_type": "code",
   "execution_count": 2,
   "metadata": {},
   "outputs": [],
   "source": [
    "import modern_robotics as mr\n",
    "import numpy as np"
   ]
  },
  {
   "cell_type": "markdown",
   "metadata": {},
   "source": [
    "<b>9</b>. Calculate the matrix exponential corresponding to the exponential coordinates of rotation $\\hat{\\omega}\\theta = (1,2,0)^\\intercal$ The maximum allowable error for any matrix element is 0.01, so give enough decimal places where necessary."
   ]
  },
  {
   "cell_type": "markdown",
   "metadata": {},
   "source": [
    "* <span style=\"color:gray\"><b>expc3:</b></span> A 3-vector of exponential coordinates for rotation $\\hat{\\omega}\\theta$\n",
    "* <span style=\"color:gray\"><b>so3mat:</b></span> The corresponding 3×3 skew-symmetric matrix in $so(3)$.\n",
    "* <span style=\"color:gray\"><b>R:</b></span> The $R'\\epsilon SO(3)$ that is achieved by rotating about $\\hat{\\omega}$ by $\\theta$ from an initial orientation $R = I$.\n",
    "\n"
   ]
  },
  {
   "cell_type": "code",
   "execution_count": 3,
   "metadata": {},
   "outputs": [
    {
     "name": "stdout",
     "output_type": "stream",
     "text": [
      "[[-0.294  0.647  0.704]\n",
      " [ 0.647  0.677 -0.352]\n",
      " [-0.704  0.352 -0.617]]\n"
     ]
    }
   ],
   "source": [
    "expc3 = np.array([1, 2, 0])  \n",
    "so3mat =mr.VecToso3(expc3)\n",
    "R = mr.MatrixExp3(so3mat)\n",
    "print(np.round_(R,3))"
   ]
  },
  {
   "cell_type": "markdown",
   "metadata": {},
   "source": [
    "<b>10</b>. Write the 3×3 skew-symmetric matrix corresponding to $\\omega=(1,2,0.5)^T$. Confirm your answer using the function VecToso3 in the given software."
   ]
  },
  {
   "cell_type": "markdown",
   "metadata": {},
   "source": [
    "* <span style=\"color:gray\"><b>omg:</b></span> A 3-vector\n",
    "* <span style=\"color:gray\"><b>so3mat:</b></span> The corresponding 3×3 skew-symmetric matrix in $so(3)$."
   ]
  },
  {
   "cell_type": "code",
   "execution_count": 4,
   "metadata": {},
   "outputs": [
    {
     "name": "stdout",
     "output_type": "stream",
     "text": [
      "[[ 0.  -0.5  2. ]\n",
      " [ 0.5  0.  -1. ]\n",
      " [-2.   1.   0. ]]\n"
     ]
    }
   ],
   "source": [
    "omg = np.array([1, 2, 0.5])\n",
    "so3mat= mr.VecToso3(omg)\n",
    "print (so3mat)"
   ]
  },
  {
   "cell_type": "markdown",
   "metadata": {},
   "source": [
    "<b>11.</b>Use the function MatrixExp3 in the given software to calculate the rotation matrix $R\\epsilon SO3$ corresponding to the matrix exponential of\n",
    "$$[\\hat{\\omega}]\\theta=\\begin{bmatrix}\n",
    "0 &0.5  &-1 \\\\ \n",
    "-0.5 &0  &2 \\\\ \n",
    "1 &-2  &0 \n",
    "\\end{bmatrix}$$\n",
    "\n",
    "The maximum allowable error for any matrix element is 0.01, so give enough decimal places where necessary."
   ]
  },
  {
   "cell_type": "markdown",
   "metadata": {},
   "source": [
    "* <span style=\"color:gray\"><b>R:</b></span> The $R'\\epsilon SO(3)$ that is achieved by rotating about $\\hat{\\omega}$ by $\\theta$ from an initial orientation $R = I$.\n"
   ]
  },
  {
   "cell_type": "code",
   "execution_count": 11,
   "metadata": {},
   "outputs": [
    {
     "name": "stdout",
     "output_type": "stream",
     "text": [
      "[[ 0.605  0.796 -0.012]\n",
      " [ 0.468 -0.344  0.814]\n",
      " [ 0.644 -0.498 -0.581]]\n"
     ]
    }
   ],
   "source": [
    "so3 = np.array([[0, 0.5, -1],\n",
    "              [-0.5, 0, 2],\n",
    "              [1, -2, 0]])\n",
    "R = mr.MatrixExp3(so3)\n",
    "print(np.round_(R,3))"
   ]
  },
  {
   "cell_type": "markdown",
   "metadata": {},
   "source": [
    "<b>12.</b> Use the function MatrixLog3 in the given software to calculate the matrix logarithm $[\\hat{\\omega}]\\theta \\epsilon so(3)$ of rotation matrix\n",
    "\n",
    "$$R=\\begin{bmatrix}\n",
    "0 &0  &1 \\\\ \n",
    "-1 &0  &0 \\\\ \n",
    "0 &-1  &0 \n",
    "\\end{bmatrix}$$\n",
    "\n",
    "The maximum allowable error for any matrix element is 0.01, so give enough decimal places where necessary."
   ]
  },
  {
   "cell_type": "markdown",
   "metadata": {},
   "source": [
    "* <span style=\"color:gray\"><b>R:</b></span> Rotaion matrix\n",
    "* <span style=\"color:gray\"><b>so3mat:</b></span> The corresponding $so(3)$ representation of exponential coordinates.\n"
   ]
  },
  {
   "cell_type": "code",
   "execution_count": 12,
   "metadata": {},
   "outputs": [
    {
     "name": "stdout",
     "output_type": "stream",
     "text": [
      "[[ 0.     1.209  1.209]\n",
      " [-1.209  0.     1.209]\n",
      " [-1.209 -1.209  0.   ]]\n"
     ]
    }
   ],
   "source": [
    "R = np.array([[0, 0, 1],\n",
    "              [-1, 0, 0],\n",
    "              [0, -1, 0]])\n",
    "\n",
    "so3mat = mr.MatrixLog3(R)\n",
    "print(np.round_(so3mat,3))\n"
   ]
  },
  {
   "cell_type": "markdown",
   "metadata": {},
   "source": []
  },
  {
   "cell_type": "markdown",
   "metadata": {},
   "source": []
  },
  {
   "cell_type": "markdown",
   "metadata": {},
   "source": []
  },
  {
   "cell_type": "markdown",
   "metadata": {},
   "source": []
  },
  {
   "cell_type": "markdown",
   "metadata": {},
   "source": []
  }
 ],
 "metadata": {
  "kernelspec": {
   "display_name": "Python 3",
   "language": "python",
   "name": "python3"
  },
  "language_info": {
   "codemirror_mode": {
    "name": "ipython",
    "version": 3
   },
   "file_extension": ".py",
   "mimetype": "text/x-python",
   "name": "python",
   "nbconvert_exporter": "python",
   "pygments_lexer": "ipython3",
   "version": "3.8.2"
  }
 },
 "nbformat": 4,
 "nbformat_minor": 4
}
